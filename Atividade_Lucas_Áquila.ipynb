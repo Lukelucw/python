{
  "nbformat": 4,
  "nbformat_minor": 0,
  "metadata": {
    "colab": {
      "provenance": [],
      "authorship_tag": "ABX9TyNKTY94tgnVoWgZwMBi6anV",
      "include_colab_link": true
    },
    "kernelspec": {
      "name": "python3",
      "display_name": "Python 3"
    },
    "language_info": {
      "name": "python"
    }
  },
  "cells": [
    {
      "cell_type": "markdown",
      "metadata": {
        "id": "view-in-github",
        "colab_type": "text"
      },
      "source": [
        "<a href=\"https://colab.research.google.com/github/Lukelucw/python/blob/main/Atividade_Lucas_%C3%81quila.ipynb\" target=\"_parent\"><img src=\"https://colab.research.google.com/assets/colab-badge.svg\" alt=\"Open In Colab\"/></a>"
      ]
    },
    {
      "cell_type": "code",
      "execution_count": 3,
      "metadata": {
        "colab": {
          "base_uri": "https://localhost:8080/"
        },
        "id": "cf8sU5w6li4N",
        "outputId": "33a4aeae-a581-4e23-9f27-48d28ac515ba"
      },
      "outputs": [
        {
          "output_type": "stream",
          "name": "stdout",
          "text": [
            "Olá ETE PORTO DIGITAL!\n"
          ]
        }
      ],
      "source": [
        "##1. Faça um CÓDIGO que mostre a mensagem \"Olá ETE PORTO DIGITAL!\" na tela.\n",
        "\n",
        "\n",
        "mensagem = \"Olá ETE PORTO DIGITAL!\"\n",
        "print(mensagem)\n"
      ]
    },
    {
      "cell_type": "code",
      "source": [
        "#2. Faça um CÓDIGO que peça um número e então mostre a mensagem O número informado foi [número].\n",
        "\n",
        "numero = input(\"Informe um número: \")\n",
        "print(\"O número informado foi\", numero)\n"
      ],
      "metadata": {
        "colab": {
          "base_uri": "https://localhost:8080/"
        },
        "id": "qK5oc1R0t_g4",
        "outputId": "1e3cb711-3e17-4ad1-b0b1-0d20a62ecaec"
      },
      "execution_count": 4,
      "outputs": [
        {
          "output_type": "stream",
          "name": "stdout",
          "text": [
            "Informe um número: 5\n",
            "O número informado foi 5\n"
          ]
        }
      ]
    },
    {
      "cell_type": "code",
      "source": [
        "#3. Faça um CÓDIGO que peça dois números e imprima a soma.\n",
        "\n",
        "numero1 = float(input(\"Digite o primeiro número: \"))\n",
        "numero2 = float(input(\"Digite o segundo número: \"))\n",
        "\n",
        "soma = numero1 + numero2\n",
        "\n",
        "print(\"A soma dos dois números é:\", soma)"
      ],
      "metadata": {
        "colab": {
          "base_uri": "https://localhost:8080/"
        },
        "id": "Pac7a7Y_uEHO",
        "outputId": "5ffa0baf-4a9d-41d9-c7bd-479bc8123796"
      },
      "execution_count": 5,
      "outputs": [
        {
          "output_type": "stream",
          "name": "stdout",
          "text": [
            "Digite o primeiro número: 2\n",
            "Digite o segundo número: 5\n",
            "A soma dos dois números é: 7.0\n"
          ]
        }
      ]
    },
    {
      "cell_type": "code",
      "source": [
        "#4. Faça um CÓDIGO que peça as 4 notas bimestrais e mostre a média final.\n",
        "\n",
        "nota1 = float(input(\"Digite a primeira nota: \"))\n",
        "nota2 = float(input(\"Digite a segunda nota: \"))\n",
        "nota3 = float(input(\"Digite a terceira nota: \"))\n",
        "nota4 = float(input(\"Digite a quarta nota: \"))\n",
        "\n",
        "media = (nota1 + nota2 + nota3 + nota4) / 4\n",
        "\n",
        "print(\"A média final é:\", media)"
      ],
      "metadata": {
        "colab": {
          "base_uri": "https://localhost:8080/"
        },
        "id": "6hcHXblluP-m",
        "outputId": "2c03ffc3-3201-4978-907e-0945fa1e0032"
      },
      "execution_count": 6,
      "outputs": [
        {
          "output_type": "stream",
          "name": "stdout",
          "text": [
            "Digite a primeira nota: 10\n",
            "Digite a segunda nota: 8\n",
            "Digite a terceira nota: 9\n",
            "Digite a quarta nota: 6\n",
            "A média final é: 8.25\n"
          ]
        }
      ]
    },
    {
      "cell_type": "code",
      "source": [
        "#5. Faça um CÓDIGO que converta metros para centímetros.\n",
        "\n",
        "metros = float(input(\"Digite o valor em metros: \"))\n",
        "\n",
        "centimetros = metros * 100\n",
        "\n",
        "print(\"O valor em centímetros é:\", centimetros)\n"
      ],
      "metadata": {
        "colab": {
          "base_uri": "https://localhost:8080/"
        },
        "id": "XGTt0mCZub4v",
        "outputId": "abbf0505-8c95-4dcd-cb54-6646749ecc55"
      },
      "execution_count": 7,
      "outputs": [
        {
          "output_type": "stream",
          "name": "stdout",
          "text": [
            "Digite o valor em metros: 10\n",
            "O valor em centímetros é: 1000.0\n"
          ]
        }
      ]
    },
    {
      "cell_type": "code",
      "source": [
        "#6. Faça um CÓDIGO que peça o raio de um círculo, calcule e mostre sua área.\n",
        "\n",
        "import math\n",
        "\n",
        "raio = float(input(\"Digite o raio do círculo: \"))\n",
        "\n",
        "area = math.pi * raio**2\n",
        "\n",
        "print(\"A área do círculo é:\", area)"
      ],
      "metadata": {
        "colab": {
          "base_uri": "https://localhost:8080/"
        },
        "id": "HNjfvlRNumS-",
        "outputId": "93b07de0-eb1b-41cc-88f6-bb711d90115b"
      },
      "execution_count": 8,
      "outputs": [
        {
          "output_type": "stream",
          "name": "stdout",
          "text": [
            "Digite o raio do círculo: 6\n",
            "A área do círculo é: 113.09733552923255\n"
          ]
        }
      ]
    },
    {
      "cell_type": "code",
      "source": [
        "#7. Faça um CÓDIGO que calcule a área de um quadrado, em seguida mostre o dobro desta área para o usuário.\n",
        "\n",
        "lado = float(input(\"Digite o valor do lado do quadrado: \"))\n",
        "\n",
        "area = lado ** 2\n",
        "dobro_area = 2 * area\n",
        "\n",
        "print(\"A área do quadrado é:\", area)\n",
        "print(\"O dobro da área é:\", dobro_area)"
      ],
      "metadata": {
        "colab": {
          "base_uri": "https://localhost:8080/"
        },
        "id": "mLcFkwFhvYgd",
        "outputId": "88b0aa26-bcc3-4fb0-b14a-12f233245f99"
      },
      "execution_count": 9,
      "outputs": [
        {
          "output_type": "stream",
          "name": "stdout",
          "text": [
            "Digite o valor do lado do quadrado: 10\n",
            "A área do quadrado é: 100.0\n",
            "O dobro da área é: 200.0\n"
          ]
        }
      ]
    },
    {
      "cell_type": "code",
      "source": [
        "#8. Faça um CÓDIGO que pergunte quanto você ganha por hora e o número de horas trabalhadas no mês. Calcule e mostre o total do seu salário no referido mês.\n",
        "\n",
        "valor_por_hora = float(input(\"Digite o valor do seu salário por hora: \"))\n",
        "horas_trabalhadas = float(input(\"Digite o número de horas trabalhadas no mês: \"))\n",
        "\n",
        "salario_mensal = valor_por_hora * horas_trabalhadas\n",
        "\n",
        "print(\"Seu salário mensal é:\", salario_mensal)\n"
      ],
      "metadata": {
        "colab": {
          "base_uri": "https://localhost:8080/"
        },
        "id": "ZZ7Q58mBveiw",
        "outputId": "38e5da0b-ca94-4fef-c0a2-831b08d49651"
      },
      "execution_count": 11,
      "outputs": [
        {
          "output_type": "stream",
          "name": "stdout",
          "text": [
            "Digite o valor do seu salário por hora: 3\n",
            "Digite o número de horas trabalhadas no mês: 730\n",
            "Seu salário mensal é: 2190.0\n"
          ]
        }
      ]
    },
    {
      "cell_type": "code",
      "source": [
        "#9. Faça um CÓDIGO que peça um valor e mostre na tela se o valor é positivo ou negativo.\n",
        "\n",
        "valor = float(input(\"Digite um valor: \"))\n",
        "\n",
        "if valor > 0:\n",
        "    print(\"O valor é positivo.\")\n",
        "elif valor < 0:\n",
        "    print(\"O valor é negativo.\")\n",
        "else:\n",
        "    print(\"O valor é zero.\")"
      ],
      "metadata": {
        "colab": {
          "base_uri": "https://localhost:8080/"
        },
        "id": "-snQvfObvxDa",
        "outputId": "3689e2c7-afe6-4dc3-ebec-2c191743f03e"
      },
      "execution_count": 12,
      "outputs": [
        {
          "output_type": "stream",
          "name": "stdout",
          "text": [
            "Digite um valor: 2\n",
            "O valor é positivo.\n"
          ]
        }
      ]
    },
    {
      "cell_type": "code",
      "source": [
        "#10. Faça um CÓDIGO que verifique se uma letra digitada é \"F\" ou \"M\". Conforme a letra escrever: F - Feminino, M - Masculino, Sexo Inválido.\n",
        "\n",
        "letra = input(\"Digite uma letra: \")\n",
        "\n",
        "if letra == \"F\" or letra == \"f\":\n",
        "    print(\"F - Feminino\")\n",
        "elif letra == \"M\" or letra == \"m\":\n",
        "    print(\"M - Masculino\")\n",
        "else:\n",
        "    print(\"Sexo Inválido\")"
      ],
      "metadata": {
        "colab": {
          "base_uri": "https://localhost:8080/"
        },
        "id": "HheIknnxv77D",
        "outputId": "92ffe647-3bbe-4f02-dbf9-004058f66cd9"
      },
      "execution_count": 15,
      "outputs": [
        {
          "output_type": "stream",
          "name": "stdout",
          "text": [
            "Digite uma letra: m\n",
            "M - Masculino\n"
          ]
        }
      ]
    }
  ]
}