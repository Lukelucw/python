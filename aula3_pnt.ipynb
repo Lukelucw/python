{
  "nbformat": 4,
  "nbformat_minor": 0,
  "metadata": {
    "colab": {
      "provenance": []
    },
    "kernelspec": {
      "name": "python3",
      "display_name": "Python 3"
    },
    "language_info": {
      "name": "python"
    }
  },
  "cells": [
    {
      "cell_type": "code",
      "execution_count": null,
      "metadata": {
        "colab": {
          "base_uri": "https://localhost:8080/"
        },
        "id": "H37kWT9Oginf",
        "outputId": "c9288dd3-5634-47f1-9962-9eec4300ff8f"
      },
      "outputs": [
        {
          "output_type": "stream",
          "name": "stdout",
          "text": [
            "<class 'str'>\n"
          ]
        }
      ],
      "source": [
        "# ETE CÍCERO DIAS\n",
        "# DOCENTE: CLOVES ROCHA\n",
        "# ESTUDANTE: LUCAS ÁQUILA\n",
        "# Tipos primitivos de dados em Python\n",
        "#print(' Olá mundo!')\n",
        "\n",
        "c = 'Cloves'\n",
        "print( type(c) )"
      ]
    }
  ]
}